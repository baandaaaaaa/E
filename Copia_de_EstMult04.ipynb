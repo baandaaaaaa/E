{
  "nbformat": 4,
  "nbformat_minor": 0,
  "metadata": {
    "colab": {
      "provenance": [],
      "include_colab_link": true
    },
    "kernelspec": {
      "name": "python3",
      "display_name": "Python 3"
    },
    "language_info": {
      "name": "python"
    }
  },
  "cells": [
    {
      "cell_type": "markdown",
      "metadata": {
        "id": "view-in-github",
        "colab_type": "text"
      },
      "source": [
        "<a href=\"https://colab.research.google.com/github/baandaaaaaa/E/blob/main/Copia_de_EstMult04.ipynb\" target=\"_parent\"><img src=\"https://colab.research.google.com/assets/colab-badge.svg\" alt=\"Open In Colab\"/></a>"
      ]
    },
    {
      "cell_type": "code",
      "execution_count": null,
      "metadata": {
        "colab": {
          "base_uri": "https://localhost:8080/"
        },
        "id": "kKaVVNYiCy8G",
        "outputId": "2a2b56ce-5a70-420d-c05c-213d3e45e02f"
      },
      "outputs": [
        {
          "output_type": "stream",
          "name": "stdout",
          "text": [
            "   Ventas  TV  Radio\n",
            "0      10   5      2\n",
            "1      15   6      4\n",
            "2      13   7      3\n",
            "3      18   8      5\n"
          ]
        }
      ],
      "source": [
        "import pandas as pd\n",
        "\n",
        "# Crear un DataFrame con los datos\n",
        "data = {\n",
        "    'Ventas': [10, 15, 13, 18],\n",
        "    'TV': [5, 6, 7, 8],\n",
        "    'Radio': [2, 4, 3, 5]\n",
        "}\n",
        "\n",
        "df = pd.DataFrame(data)\n",
        "print(df)"
      ]
    },
    {
      "cell_type": "code",
      "source": [
        "# Variables independientes (X) y dependiente (Y)\n",
        "X = df[['TV', 'Radio']]\n",
        "Y = df['Ventas']"
      ],
      "metadata": {
        "id": "3bk30TDXDCuy"
      },
      "execution_count": null,
      "outputs": []
    },
    {
      "cell_type": "code",
      "source": [
        "import statsmodels.api as sm\n",
        "\n",
        "# Añadir constante para β0\n",
        "X = sm.add_constant(X)"
      ],
      "metadata": {
        "id": "M3A13zZ8DGsB"
      },
      "execution_count": null,
      "outputs": []
    },
    {
      "cell_type": "code",
      "source": [
        "# Ajustar el modelo OLS\n",
        "modelo = sm.OLS(Y, X).fit()\n",
        "\n",
        "# Mostrar un resumen del modelo\n",
        "print(modelo.summary())"
      ],
      "metadata": {
        "colab": {
          "base_uri": "https://localhost:8080/"
        },
        "id": "JJA7-UWzDMWo",
        "outputId": "d2d7a286-a173-4416-c3a2-cedc9885c811"
      },
      "execution_count": null,
      "outputs": [
        {
          "output_type": "stream",
          "name": "stdout",
          "text": [
            "                            OLS Regression Results                            \n",
            "==============================================================================\n",
            "Dep. Variable:                 Ventas   R-squared:                       1.000\n",
            "Model:                            OLS   Adj. R-squared:                  1.000\n",
            "Method:                 Least Squares   F-statistic:                 1.347e+29\n",
            "Date:                Wed, 23 Oct 2024   Prob (F-statistic):           1.93e-15\n",
            "Time:                        06:55:42   Log-Likelihood:                 125.58\n",
            "No. Observations:                   4   AIC:                            -245.2\n",
            "Df Residuals:                       1   BIC:                            -247.0\n",
            "Df Model:                           2                                         \n",
            "Covariance Type:            nonrobust                                         \n",
            "==============================================================================\n",
            "                 coef    std err          t      P>|t|      [0.025      0.975]\n",
            "------------------------------------------------------------------------------\n",
            "const          3.6667   3.61e-14   1.02e+14      0.000       3.667       3.667\n",
            "TV             0.3333   8.37e-15   3.98e+13      0.000       0.333       0.333\n",
            "Radio          2.3333   8.37e-15   2.79e+14      0.000       2.333       2.333\n",
            "==============================================================================\n",
            "Omnibus:                          nan   Durbin-Watson:                   0.300\n",
            "Prob(Omnibus):                    nan   Jarque-Bera (JB):                0.667\n",
            "Skew:                           0.000   Prob(JB):                        0.717\n",
            "Kurtosis:                       1.000   Cond. No.                         49.9\n",
            "==============================================================================\n",
            "\n",
            "Notes:\n",
            "[1] Standard Errors assume that the covariance matrix of the errors is correctly specified.\n"
          ]
        },
        {
          "output_type": "stream",
          "name": "stderr",
          "text": [
            "/usr/local/lib/python3.10/dist-packages/statsmodels/stats/stattools.py:74: ValueWarning: omni_normtest is not valid with less than 8 observations; 4 samples were given.\n",
            "  warn(\"omni_normtest is not valid with less than 8 observations; %i \"\n"
          ]
        }
      ]
    },
    {
      "cell_type": "code",
      "source": [
        "import matplotlib.pyplot as plt\n",
        "\n",
        "# Predecir las ventas con el modelo ajustado\n",
        "df['Predicción'] = modelo.predict(X)\n",
        "\n",
        "# Gráfica de ventas reales vs predicción\n",
        "plt.plot(df['TV'], df['Ventas'], 'o', label='Ventas Reales')\n",
        "#plt.plot(df['TV'], df['Predicción'], 'r-', label='Predicción')\n",
        "plt.plot([df['TV'].min(), df['TV'].max()], [df['Predicción'].min(), df['Predicción'].max()], color='red', lw=2)\n",
        "plt.xlabel('Publicidad en TV')\n",
        "plt.ylabel('Ventas')\n",
        "plt.legend()\n",
        "plt.show()"
      ],
      "metadata": {
        "colab": {
          "base_uri": "https://localhost:8080/",
          "height": 469
        },
        "id": "wdKfeAW-DZ6S",
        "outputId": "78db9f11-70b3-4e37-b205-1c31ccd8cb78"
      },
      "execution_count": null,
      "outputs": [
        {
          "output_type": "display_data",
          "data": {
            "text/plain": [
              "<Figure size 640x480 with 1 Axes>"
            ],
            "image/png": "[encoded data removed]"
          },
          "metadata": {}
        }
      ]
    },
    {
      "cell_type": "code",
      "source": [
        "# Calcular los residuos (error)\n",
        "df['Residuos'] = df['Ventas'] - df['Predicción']\n",
        "print(df[['Ventas', 'Predicción', 'Residuos']])"
      ],
      "metadata": {
        "colab": {
          "base_uri": "https://localhost:8080/"
        },
        "id": "U2VxwpP9DoN_",
        "outputId": "923c6561-d3db-4b7e-c28f-2d916e414744"
      },
      "execution_count": null,
      "outputs": [
        {
          "output_type": "stream",
          "name": "stdout",
          "text": [
            "   Ventas  Predicción      Residuos\n",
            "0      10        10.0  7.105427e-15\n",
            "1      15        15.0  3.552714e-15\n",
            "2      13        13.0  7.105427e-15\n",
            "3      18        18.0  3.552714e-15\n"
          ]
        }
      ]
    },
    {
      "cell_type": "code",
      "source": [
        "# Calcular el Error Cuadrático Medio (MSE)\n",
        "mse = (df['Residuos'] ** 2).mean()\n",
        "print(\"Error Cuadrático Medio (MSE):\", mse)"
      ],
      "metadata": {
        "colab": {
          "base_uri": "https://localhost:8080/"
        },
        "id": "E8h-9aQKD9OY",
        "outputId": "2ec16af4-5560-497b-9d0f-b6050a1f208c"
      },
      "execution_count": null,
      "outputs": [
        {
          "output_type": "stream",
          "name": "stdout",
          "text": [
            "Error Cuadrático Medio (MSE): 3.155443620884047e-29\n"
          ]
        }
      ]
    },
    {
      "cell_type": "code",
      "source": [
        "import numpy as np\n",
        "\n",
        "# Calcular la Raíz del Error Cuadrático Medio (RMSE)\n",
        "rmse = np.sqrt(mse)\n",
        "print(\"Raíz del Error Cuadrático Medio (RMSE):\", rmse)"
      ],
      "metadata": {
        "colab": {
          "base_uri": "https://localhost:8080/"
        },
        "id": "TsVbVokYD_rq",
        "outputId": "1abd35c0-c479-47d9-a40c-eb51dad86887"
      },
      "execution_count": null,
      "outputs": [
        {
          "output_type": "stream",
          "name": "stdout",
          "text": [
            "Raíz del Error Cuadrático Medio (RMSE): 5.617333549722722e-15\n"
          ]
        }
      ]
    },
    {
      "cell_type": "code",
      "source": [
        "# Calcular el Error Absoluto Medio (MAE)\n",
        "mae = np.abs(df['Residuos']).mean()\n",
        "print(\"Error Absoluto Medio (MAE):\", mae)"
      ],
      "metadata": {
        "colab": {
          "base_uri": "https://localhost:8080/"
        },
        "id": "FIiDM4UBEDsC",
        "outputId": "13d8cabb-715e-41d8-fcfd-4c54298cb180"
      },
      "execution_count": null,
      "outputs": [
        {
          "output_type": "stream",
          "name": "stdout",
          "text": [
            "Error Absoluto Medio (MAE): 5.329070518200751e-15\n"
          ]
        }
      ]
    },
    {
      "cell_type": "markdown",
      "source": [
        "**Resumen**\n",
        "\n",
        "**Residuos:** Diferencia entre los valores reales y los predichos. Nos permiten ver los errores puntuales.\n",
        "\n",
        "**MSE:** Penaliza más los errores grandes porque los eleva al cuadrado. Sensible a valores atípicos.\n",
        "\n",
        "**RMSE:** Es la raíz cuadrada del MSE, con las mismas unidades que los datos originales.\n",
        "\n",
        "**MAE:** Mide el error promedio absoluto, menos sensible a errores grandes en comparación con el MSE.\n",
        "\n",
        "**R^2** Indica qué tan bien se ajusta el modelo a los datos. Valores cercanos a 1 son deseables."
      ],
      "metadata": {
        "id": "aYjbU97bEqgY"
      }
    },
    {
      "cell_type": "markdown",
      "source": [
        "# **Ejemplo 2**"
      ],
      "metadata": {
        "id": "r4KOB7EiGTQn"
      }
    },
    {
      "cell_type": "code",
      "source": [
        "# Crear un DataFrame con los datos\n",
        "data = {\n",
        "    'Likes': [500, 800, 650, 700, 1200, 1000, 900, 750, 650, 1100],\n",
        "    'Comments': [45, 80, 60, 55, 130, 110, 100, 70, 65, 115],\n",
        "    'Shares': [30, 50, 40, 35, 75, 70, 60, 45, 40, 80],\n",
        "    'Followers': [1500, 2200, 1800, 2000, 3000, 2700, 2500, 2100, 1800, 2900]\n",
        "}\n",
        "\n",
        "df = pd.DataFrame(data)\n",
        "print(df)"
      ],
      "metadata": {
        "colab": {
          "base_uri": "https://localhost:8080/"
        },
        "id": "aLV2b3IhGaMv",
        "outputId": "50c990d0-de2e-4838-bcce-621d2ef50952"
      },
      "execution_count": null,
      "outputs": [
        {
          "output_type": "stream",
          "name": "stdout",
          "text": [
            "   Likes  Comments  Shares  Followers\n",
            "0    500        45      30       1500\n",
            "1    800        80      50       2200\n",
            "2    650        60      40       1800\n",
            "3    700        55      35       2000\n",
            "4   1200       130      75       3000\n",
            "5   1000       110      70       2700\n",
            "6    900       100      60       2500\n",
            "7    750        70      45       2100\n",
            "8    650        65      40       1800\n",
            "9   1100       115      80       2900\n"
          ]
        }
      ]
    },
    {
      "cell_type": "code",
      "source": [
        "# Definir las variables dependiente (Y) e independientes (X)\n",
        "X = df[['Comments', 'Shares', 'Followers']]  # Variables independientes\n",
        "Y = df['Likes']  # Variable dependiente"
      ],
      "metadata": {
        "id": "faoFVo6TGc7q"
      },
      "execution_count": null,
      "outputs": []
    },
    {
      "cell_type": "code",
      "source": [
        "# Añadir constante β0\n",
        "X = sm.add_constant(X)"
      ],
      "metadata": {
        "id": "f8OpZUsGGgJ5"
      },
      "execution_count": null,
      "outputs": []
    },
    {
      "cell_type": "code",
      "source": [
        "# Ajustar el modelo de regresión lineal múltiple\n",
        "modelo = sm.OLS(Y, X).fit()\n",
        "\n",
        "# Mostrar el resumen del modelo\n",
        "print(modelo.summary())"
      ],
      "metadata": {
        "colab": {
          "base_uri": "https://localhost:8080/"
        },
        "id": "W1N_2pGVGs2R",
        "outputId": "b4d2a886-a9dc-449f-88a6-a9b66595f24a"
      },
      "execution_count": null,
      "outputs": [
        {
          "output_type": "stream",
          "name": "stdout",
          "text": [
            "                            OLS Regression Results                            \n",
            "==============================================================================\n",
            "Dep. Variable:                  Likes   R-squared:                       0.991\n",
            "Model:                            OLS   Adj. R-squared:                  0.987\n",
            "Method:                 Least Squares   F-statistic:                     222.5\n",
            "Date:                Wed, 23 Oct 2024   Prob (F-statistic):           1.54e-06\n",
            "Time:                        06:42:53   Log-Likelihood:                -44.059\n",
            "No. Observations:                  10   AIC:                             96.12\n",
            "Df Residuals:                       6   BIC:                             97.33\n",
            "Df Model:                           3                                         \n",
            "Covariance Type:            nonrobust                                         \n",
            "==============================================================================\n",
            "                 coef    std err          t      P>|t|      [0.025      0.975]\n",
            "------------------------------------------------------------------------------\n",
            "const        -89.0289     72.306     -1.231      0.264    -265.955      87.898\n",
            "Comments       2.3611      1.707      1.383      0.216      -1.815       6.538\n",
            "Shares        -1.4923      2.543     -0.587      0.579      -7.714       4.729\n",
            "Followers      0.3540      0.084      4.212      0.006       0.148       0.560\n",
            "==============================================================================\n",
            "Omnibus:                        1.862   Durbin-Watson:                   1.711\n",
            "Prob(Omnibus):                  0.394   Jarque-Bera (JB):                0.538\n",
            "Skew:                          -0.568   Prob(JB):                        0.764\n",
            "Kurtosis:                       3.052   Cond. No.                     2.06e+04\n",
            "==============================================================================\n",
            "\n",
            "Notes:\n",
            "[1] Standard Errors assume that the covariance matrix of the errors is correctly specified.\n",
            "[2] The condition number is large, 2.06e+04. This might indicate that there are\n",
            "strong multicollinearity or other numerical problems.\n"
          ]
        },
        {
          "output_type": "stream",
          "name": "stderr",
          "text": [
            "/usr/local/lib/python3.10/dist-packages/scipy/stats/_axis_nan_policy.py:531: UserWarning: kurtosistest only valid for n>=20 ... continuing anyway, n=10\n",
            "  res = hypotest_fun_out(*samples, **kwds)\n"
          ]
        }
      ]
    },
    {
      "cell_type": "code",
      "source": [
        "# Predecir los \"likes\" con los datos actuales\n",
        "df['Predicción'] = modelo.predict(X)\n",
        "print(df[['Likes', 'Predicción']])"
      ],
      "metadata": {
        "colab": {
          "base_uri": "https://localhost:8080/"
        },
        "id": "rl_Tdw_bHTBL",
        "outputId": "7c572875-ff76-4975-a6b4-215df3ac580f"
      },
      "execution_count": null,
      "outputs": [
        {
          "output_type": "stream",
          "name": "stdout",
          "text": [
            "   Likes   Predicción\n",
            "0    500   503.387133\n",
            "1    800   803.949595\n",
            "2    650   630.067758\n",
            "3    700   696.515132\n",
            "4   1200  1167.862799\n",
            "5   1000  1021.915152\n",
            "6    900   942.435738\n",
            "7    750   752.404370\n",
            "8    650   641.873276\n",
            "9   1100  1089.589047\n"
          ]
        }
      ]
    },
    {
      "cell_type": "code",
      "source": [
        "import matplotlib.pyplot as plt\n",
        "\n",
        "# Gráfico de dispersión de los Likes reales vs Predichos\n",
        "plt.scatter(df['Likes'], df['Predicción'], color='blue')\n",
        "plt.plot([df['Likes'].min(), df['Likes'].max()], [df['Likes'].min(), df['Likes'].max()], color='red', lw=2)\n",
        "plt.xlabel('Likes Reales')\n",
        "plt.ylabel('Likes Predichos')\n",
        "plt.title('Comparación de Likes Reales vs Predichos')\n",
        "plt.show()"
      ],
      "metadata": {
        "colab": {
          "base_uri": "https://localhost:8080/",
          "height": 493
        },
        "id": "y66pNf09HWMK",
        "outputId": "8c0bcc38-9ceb-45d5-d8bb-5e08b993bcce"
      },
      "execution_count": null,
      "outputs": [
        {
          "output_type": "display_data",
          "data": {
            "text/plain": [
              "<Figure size 640x480 with 1 Axes>"
            ],
            "image/png": "[encoded data removed]"
          },
          "metadata": {}
        }
      ]
    },
    {
      "cell_type": "code",
      "source": [
        "# Calcular el Error Cuadrático Medio (MSE)\n",
        "mse = ((df['Likes'] - df['Predicción']) ** 2).mean()\n",
        "print(f\"MSE: {mse}\")\n",
        "\n",
        "# Calcular la Raíz del Error Cuadrático Medio (RMSE)\n",
        "rmse = mse ** 0.5\n",
        "print(f\"RMSE: {rmse}\")"
      ],
      "metadata": {
        "colab": {
          "base_uri": "https://localhost:8080/"
        },
        "id": "QD6ubgcLHZeo",
        "outputId": "fd61c4da-b512-4ad7-d036-fc12fb890bfb"
      },
      "execution_count": null,
      "outputs": [
        {
          "output_type": "stream",
          "name": "stdout",
          "text": [
            "MSE: 393.0588498891296\n",
            "RMSE: 19.825711838144162\n"
          ]
        }
      ]
    },
    {
      "cell_type": "code",
      "source": [],
      "metadata": {
        "id": "Wx7QZbisHeSW"
      },
      "execution_count": null,
      "outputs": []
    }
  ]
}