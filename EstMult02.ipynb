{
  "nbformat": 4,
  "nbformat_minor": 0,
  "metadata": {
    "colab": {
      "provenance": [],
      "include_colab_link": true
    },
    "kernelspec": {
      "name": "python3",
      "display_name": "Python 3"
    },
    "language_info": {
      "name": "python"
    }
  },
  "cells": [
    {
      "cell_type": "markdown",
      "metadata": {
        "id": "view-in-github",
        "colab_type": "text"
      },
      "source": [
        "<a href=\"https://colab.research.google.com/github/baandaaaaaa/E/blob/main/EstMult02.ipynb\" target=\"_parent\"><img src=\"https://colab.research.google.com/assets/colab-badge.svg\" alt=\"Open In Colab\"/></a>"
      ]
    },
    {
      "cell_type": "code",
      "execution_count": 12,
      "metadata": {
        "colab": {
          "base_uri": "https://localhost:8080/"
        },
        "id": "jX-GOv3F2GIf",
        "outputId": "ae7c24a9-b109-4a87-d09d-ec13a2f471b1"
      },
      "outputs": [
        {
          "output_type": "stream",
          "name": "stdout",
          "text": [
            "                            OLS Regression Results                            \n",
            "==============================================================================\n",
            "Dep. Variable:             Semestre 2   R-squared:                       0.404\n",
            "Model:                            OLS   Adj. R-squared:                  0.304\n",
            "Method:                 Least Squares   F-statistic:                     4.063\n",
            "Date:                Mon, 07 Oct 2024   Prob (F-statistic):             0.0904\n",
            "Time:                        14:19:57   Log-Likelihood:                -33.342\n",
            "No. Observations:                   8   AIC:                             70.68\n",
            "Df Residuals:                       6   BIC:                             70.84\n",
            "Df Model:                           1                                         \n",
            "Covariance Type:            nonrobust                                         \n",
            "==============================================================================\n",
            "                 coef    std err          t      P>|t|      [0.025      0.975]\n",
            "------------------------------------------------------------------------------\n",
            "const          8.7304     30.938      0.282      0.787     -66.971      84.432\n",
            "Semestre 1     0.8490      0.421      2.016      0.090      -0.182       1.880\n",
            "==============================================================================\n",
            "Omnibus:                        2.528   Durbin-Watson:                   2.253\n",
            "Prob(Omnibus):                  0.283   Jarque-Bera (JB):                0.774\n",
            "Skew:                          -0.761   Prob(JB):                        0.679\n",
            "Kurtosis:                       2.939   Cond. No.                         356.\n",
            "==============================================================================\n",
            "\n",
            "Notes:\n",
            "[1] Standard Errors assume that the covariance matrix of the errors is correctly specified.\n"
          ]
        },
        {
          "output_type": "stream",
          "name": "stderr",
          "text": [
            "/usr/local/lib/python3.10/dist-packages/scipy/stats/_axis_nan_policy.py:531: UserWarning: kurtosistest only valid for n>=20 ... continuing anyway, n=8\n",
            "  res = hypotest_fun_out(*samples, **kwds)\n"
          ]
        }
      ],
      "source": [
        "\n",
        "import pandas as pd\n",
        "import statsmodels.api as sm\n",
        "\n",
        "# Crear un DataFrame con los datos\n",
        "data = {\n",
        "    'Semestre 1': [70,58,85,82,70,40,85,85] ,\n",
        "    'Semestre 2': [88,52,84,74,80,36,48,96]\n",
        "}\n",
        "\n",
        "df = pd.DataFrame(data)\n",
        "\n",
        "# Variable independiente (con constante para el intercepto)\n",
        "X = sm.add_constant(df['Semestre 1'])\n",
        "\n",
        "# Variable dependiente\n",
        "y = df['Semestre 2']\n",
        "\n",
        "# Crear el modelo de regresión lineal\n",
        "modelo = sm.OLS(y, X).fit()\n",
        "\n",
        "# Resumen de los resultados\n",
        "print(modelo.summary())"
      ]
    },
    {
      "cell_type": "code",
      "source": [
        "\n",
        "import pandas as pd\n",
        "import statsmodels.api as sm\n",
        "import matplotlib.pyplot as plt\n",
        "\n",
        "# Crear un DataFrame con los datos\n",
        "data = {\n",
        "    'Semestre 1': [70,58,85,82,70,40,85,85],\n",
        "    'Semestre 2': [88,52,84,74,80,36,48,96]\n",
        "}\n",
        "df = pd.DataFrame(data)\n",
        "\n",
        "# Variable independiente (con constante para el intercepto)\n",
        "X = sm.add_constant(df['Semestre 1'])\n",
        "\n",
        "# Variable dependiente\n",
        "y = df['Semestre 2']\n",
        "\n",
        "# Crear el modelo de regresión lineal\n",
        "modelo = sm.OLS(y, X).fit()\n",
        "\n",
        "# Predecir los valores de y\n",
        "y_pred = modelo.predict(X)\n",
        "\n",
        "# Graficar los datos reales y la línea de regresión\n",
        "plt.scatter(df['Semestre 1'], df['Semestre 2'], color='pink', label='Datos reales')  # Puntos reales\n",
        "plt.plot(df['Semestre 1'], y_pred, color='blue', label='Línea de regresión')  # Línea de regresión\n",
        "plt.xlabel('Semestre 1')\n",
        "plt.ylabel('Semestre 2')\n",
        "plt.title('Regresión Lineal con statsmodels')\n",
        "plt.legend()\n",
        "plt.show()\n",
        "\n",
        "# Mostrar los resultados del modelo\n",
        "print(modelo.summary())"
      ],
      "metadata": {
        "colab": {
          "base_uri": "https://localhost:8080/",
          "height": 725
        },
        "id": "R4PsPGxN2JN1",
        "outputId": "01108078-36e3-41a8-9511-d6e5d4090d81"
      },
      "execution_count": 13,
      "outputs": [
        {
          "output_type": "display_data",
          "data": {
            "text/plain": [
              "<Figure size 640x480 with 1 Axes>"
            ],
            "image/png": "[encoded data removed]"
          },
          "metadata": {}
        },
        {
          "output_type": "stream",
          "name": "stdout",
          "text": [
            "                            OLS Regression Results                            \n",
            "==============================================================================\n",
            "Dep. Variable:             Semestre 2   R-squared:                       0.404\n",
            "Model:                            OLS   Adj. R-squared:                  0.304\n",
            "Method:                 Least Squares   F-statistic:                     4.063\n",
            "Date:                Mon, 07 Oct 2024   Prob (F-statistic):             0.0904\n",
            "Time:                        14:20:31   Log-Likelihood:                -33.342\n",
            "No. Observations:                   8   AIC:                             70.68\n",
            "Df Residuals:                       6   BIC:                             70.84\n",
            "Df Model:                           1                                         \n",
            "Covariance Type:            nonrobust                                         \n",
            "==============================================================================\n",
            "                 coef    std err          t      P>|t|      [0.025      0.975]\n",
            "------------------------------------------------------------------------------\n",
            "const          8.7304     30.938      0.282      0.787     -66.971      84.432\n",
            "Semestre 1     0.8490      0.421      2.016      0.090      -0.182       1.880\n",
            "==============================================================================\n",
            "Omnibus:                        2.528   Durbin-Watson:                   2.253\n",
            "Prob(Omnibus):                  0.283   Jarque-Bera (JB):                0.774\n",
            "Skew:                          -0.761   Prob(JB):                        0.679\n",
            "Kurtosis:                       2.939   Cond. No.                         356.\n",
            "==============================================================================\n",
            "\n",
            "Notes:\n",
            "[1] Standard Errors assume that the covariance matrix of the errors is correctly specified.\n"
          ]
        },
        {
          "output_type": "stream",
          "name": "stderr",
          "text": [
            "/usr/local/lib/python3.10/dist-packages/scipy/stats/_axis_nan_policy.py:531: UserWarning: kurtosistest only valid for n>=20 ... continuing anyway, n=8\n",
            "  res = hypotest_fun_out(*samples, **kwds)\n"
          ]
        }
      ]
    },
    {
      "cell_type": "code",
      "source": [
        "# Calcular la matriz de covarianza\n",
        "matriz_covarianza = df.cov()\n",
        "print(\"Matriz de Covarianza:\")\n",
        "print(matriz_covarianza)\n",
        "\n",
        "# Calcular la matriz de correlación\n",
        "matriz_correlacion = df.corr()\n",
        "print(\"Matriz de Correlación:\")\n",
        "print(matriz_correlacion)"
      ],
      "metadata": {
        "colab": {
          "base_uri": "https://localhost:8080/"
        },
        "id": "Gue1jX0J2fME",
        "outputId": "f3337b09-565d-4436-c272-3a4f30bdc27d"
      },
      "execution_count": 19,
      "outputs": [
        {
          "output_type": "stream",
          "name": "stdout",
          "text": [
            "Matriz de Covarianza:\n",
            "            Semestre 1  Semestre 2\n",
            "Semestre 1  262.125000  222.535714\n",
            "Semestre 2  222.535714  467.928571\n",
            "Matriz de Correlación:\n",
            "            Semestre 1  Semestre 2\n",
            "Semestre 1    1.000000    0.635412\n",
            "Semestre 2    0.635412    1.000000\n"
          ]
        }
      ]
    },
    {
      "cell_type": "code",
      "source": [
        "# Visualizar la matriz de correlación usando un heatmap\n",
        "plt.figure(figsize=(8, 2))\n",
        "sns.heatmap(matriz_correlacion, annot=True, cmap='coolwarm')\n",
        "plt.title(\"Matriz de Correlación - Heatmap\")\n",
        "plt.show()"
      ],
      "metadata": {
        "id": "_dZXvi4c6ifk",
        "outputId": "ca08b7af-5cee-4a27-e4ba-2805e0a5f26d",
        "colab": {
          "base_uri": "https://localhost:8080/",
          "height": 436
        }
      },
      "execution_count": 27,
      "outputs": [
        {
          "output_type": "error",
          "ename": "NameError",
          "evalue": "name 'sns' is not defined",
          "traceback": [
            "\u001b[0;31m---------------------------------------------------------------------------\u001b[0m",
            "\u001b[0;31mNameError\u001b[0m                                 Traceback (most recent call last)",
            "\u001b[0;32m<ipython-input-27-03b797dc9096>\u001b[0m in \u001b[0;36m<cell line: 3>\u001b[0;34m()\u001b[0m\n\u001b[1;32m      1\u001b[0m \u001b[0;31m# Visualizar la matriz de correlación usando un heatmap\u001b[0m\u001b[0;34m\u001b[0m\u001b[0;34m\u001b[0m\u001b[0m\n\u001b[1;32m      2\u001b[0m \u001b[0mplt\u001b[0m\u001b[0;34m.\u001b[0m\u001b[0mfigure\u001b[0m\u001b[0;34m(\u001b[0m\u001b[0mfigsize\u001b[0m\u001b[0;34m=\u001b[0m\u001b[0;34m(\u001b[0m\u001b[0;36m8\u001b[0m\u001b[0;34m,\u001b[0m \u001b[0;36m2\u001b[0m\u001b[0;34m)\u001b[0m\u001b[0;34m)\u001b[0m\u001b[0;34m\u001b[0m\u001b[0;34m\u001b[0m\u001b[0m\n\u001b[0;32m----> 3\u001b[0;31m \u001b[0msns\u001b[0m\u001b[0;34m.\u001b[0m\u001b[0mheatmap\u001b[0m\u001b[0;34m(\u001b[0m\u001b[0mmatriz_correlacion\u001b[0m\u001b[0;34m,\u001b[0m \u001b[0mannot\u001b[0m\u001b[0;34m=\u001b[0m\u001b[0;32mTrue\u001b[0m\u001b[0;34m,\u001b[0m \u001b[0mcmap\u001b[0m\u001b[0;34m=\u001b[0m\u001b[0;34m'coolwarm'\u001b[0m\u001b[0;34m)\u001b[0m\u001b[0;34m\u001b[0m\u001b[0;34m\u001b[0m\u001b[0m\n\u001b[0m\u001b[1;32m      4\u001b[0m \u001b[0mplt\u001b[0m\u001b[0;34m.\u001b[0m\u001b[0mtitle\u001b[0m\u001b[0;34m(\u001b[0m\u001b[0;34m\"Matriz de Correlación - Heatmap\"\u001b[0m\u001b[0;34m)\u001b[0m\u001b[0;34m\u001b[0m\u001b[0;34m\u001b[0m\u001b[0m\n\u001b[1;32m      5\u001b[0m \u001b[0mplt\u001b[0m\u001b[0;34m.\u001b[0m\u001b[0mshow\u001b[0m\u001b[0;34m(\u001b[0m\u001b[0;34m)\u001b[0m\u001b[0;34m\u001b[0m\u001b[0;34m\u001b[0m\u001b[0m\n",
            "\u001b[0;31mNameError\u001b[0m: name 'sns' is not defined"
          ]
        },
        {
          "output_type": "display_data",
          "data": {
            "text/plain": [
              "<Figure size 800x200 with 0 Axes>"
            ]
          },
          "metadata": {}
        }
      ]
    }
  ]
}